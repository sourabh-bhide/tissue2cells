{
 "cells": [
  {
   "cell_type": "code",
   "execution_count": 1,
   "metadata": {},
   "outputs": [],
   "source": [
    "import pandas as pd\n",
    "import numpy as np\n",
    "import matplotlib.pyplot as plt\n",
    "import os.path\n",
    "from PIL import Image\n",
    "import tissue2cells3 as tc\n",
    "import RowAnalysis as row"
   ]
  },
  {
   "cell_type": "code",
   "execution_count": null,
   "metadata": {},
   "outputs": [],
   "source": [
    "## this is a window for user input# Enter the correct paths and filname formats\n",
    "basepath='img5out_9_25_32bit/'\n",
    "suffix = '_pixel_26May'\n",
    "ori = pd.read_csv('img5out_9_25_32bit_fromscratch.csv', sep='\\t',engine='python')\n"
   ]
  },
  {
   "cell_type": "markdown",
   "metadata": {},
   "source": [
    "# 1. Measure cell properties"
   ]
  },
  {
   "cell_type": "code",
   "execution_count": null,
   "metadata": {},
   "outputs": [],
   "source": [
    "#READ CAREFULLY"
   ]
  },
  {
   "cell_type": "code",
   "execution_count": null,
   "metadata": {},
   "outputs": [],
   "source": [
    "#measure properties\n",
    "tc.measure_props(0,41,ori)"
   ]
  },
  {
   "cell_type": "code",
   "execution_count": null,
   "metadata": {},
   "outputs": [],
   "source": [
    "measured_data = pd.read_csv('measured_data.csv', sep=';', decimal=',')\n",
    "result = pd.concat([ori, measured_data], axis=1)\n",
    "result.to_csv('img5out_9_25_32bit_fromscratch_measured_data.csv', sep=';', decimal=',')###############"
   ]
  },
  {
   "cell_type": "markdown",
   "metadata": {},
   "source": [
    "# 2. Define row wise the ids"
   ]
  },
  {
   "cell_type": "code",
   "execution_count": null,
   "metadata": {},
   "outputs": [],
   "source": [
    "\n",
    "df = pd.read_csv('img5out_9_25_32bit_fromscratch_measured_data.csv',sep=';', decimal=',')\n",
    "# Row analysis 16:10 26.05.2020 \n",
    "# make a list of ids belonging to different rows. How are these numbers selected ?\n",
    "\n",
    "r9=[16,20,23,29,35,42,50,58,66,72,83,89,98,104,111,118]\n",
    "r8=[8,11,18,28,34,41,48,54,61,70,78,84,91,100,105,114,120]\n",
    "r7=[6,10,15,21,24,30,36,40,49,55,62,69,64,74,80,88,95,103,110,117,123]\n",
    "r6=[4,9,14,19,25,32,37,43,51,57,63,71,79,85,92,99,112,121,124]\n",
    "r5=[7,13,22,26,33,45,52,60,68,75,81,90,97,101,107,113,119,125]\n",
    "r4=[12,17,39,47,46,53,59,67,73,77,87,96,201,108,116,122]\n",
    "\n",
    "# Make a list of tracking ids from a list of cell ids at a certain time pint. Remember that ids selected in the\n",
    "#row above are not necessary from the same time point.\n",
    "\n",
    "r9_list = df[(df[\"frame_nb\"]==12) & (df.local_id_cells.isin(r9))].track_id_cells.tolist()\n",
    "r8_list = df[(df[\"frame_nb\"]==12) & (df.local_id_cells.isin(r8))].track_id_cells.tolist()\n",
    "r7_list = df[(df[\"frame_nb\"]==12) & (df.local_id_cells.isin(r7))].track_id_cells.tolist()\n",
    "r6_list = df[(df[\"frame_nb\"]==12) & (df.local_id_cells.isin(r6))].track_id_cells.tolist()\n",
    "r5_list = df[(df[\"frame_nb\"]==12) & (df.local_id_cells.isin(r5))].track_id_cells.tolist()\n",
    "r4_list = df[(df[\"frame_nb\"]==12) & (df.local_id_cells.isin(r4))].track_id_cells.tolist()\n",
    "\n"
   ]
  },
  {
   "cell_type": "markdown",
   "metadata": {},
   "source": [
    "# 3. Extract and plot every cell "
   ]
  },
  {
   "cell_type": "code",
   "execution_count": null,
   "metadata": {},
   "outputs": [],
   "source": [
    "Names=['r4_list','r5_list','r6_list','r7_list','r8_list','r9_list']\n",
    "row_lists=[r4_list,r5_list,r6_list,r7_list,r8_list,r9_list]\n",
    "for i,j in zip(Names,row_lists):\n",
    "    tc.all_plots(str(i)+suffix,j,df,0,41)\n"
   ]
  },
  {
   "cell_type": "code",
   "execution_count": null,
   "metadata": {},
   "outputs": [],
   "source": []
  },
  {
   "cell_type": "markdown",
   "metadata": {},
   "source": [
    "# 4. Plot Row-by-row analysis"
   ]
  },
  {
   "cell_type": "code",
   "execution_count": null,
   "metadata": {},
   "outputs": [],
   "source": [
    "df[\"concentration_myo\"]= df[\"sum_px_intensity_cells_ch2\"]/df[\"area_cells\"]\n",
    "df[\"Area\"]= df[\"area_cells\"]*0.01481089\n",
    "df[\"Time\"]= df[\"frame_nb\"]*25\n",
    "df[\"Offset_myo\"]= df[\"offset\"]*0.1217\n",
    "\n",
    "\n",
    "# Create new dataframe for every Row\n",
    "dfr9 = df[(df.track_id_cells.isin(r9_list)) & (df[\"frame_nb\"]<28)]\n",
    "dfr8 = df[(df.track_id_cells.isin(r8_list)) & (df[\"frame_nb\"]<28)]\n",
    "dfr7 = df[(df.track_id_cells.isin(r7_list)) & (df[\"frame_nb\"]<28)]\n",
    "dfr6 = df[(df.track_id_cells.isin(r6_list)) & (df[\"frame_nb\"]<28)]\n",
    "dfr5 = df[(df.track_id_cells.isin(r5_list)) & (df[\"frame_nb\"]<28)]\n",
    "dfr4 = df[(df.track_id_cells.isin(r4_list)) & (df[\"frame_nb\"]<28)]\n",
    "\n",
    "AcrossRows = (dfr4,dfr5,dfr6,dfr7,dfr8,dfr9)\n",
    "label_rows = ['row4','row5','row6','row7','row8','row9']\n",
    "Colors = ('magenta','indigo','skyblue','mediumseagreen','red','orange')\n",
    "#dfr4.columns"
   ]
  },
  {
   "cell_type": "code",
   "execution_count": null,
   "metadata": {},
   "outputs": [],
   "source": [
    "# Plot row wise"
   ]
  },
  {
   "cell_type": "code",
   "execution_count": null,
   "metadata": {},
   "outputs": [],
   "source": [
    "row.RowAnalysis(AcrossRows,Colors,label_rows)"
   ]
  },
  {
   "cell_type": "code",
   "execution_count": 2,
   "metadata": {},
   "outputs": [
    {
     "data": {
      "application/vnd.jupyter.widget-view+json": {
       "model_id": "0a5e1577d238435bbba614b60d15b7e7",
       "version_major": 2,
       "version_minor": 0
      },
      "text/plain": [
       "Select(description='Qyantity:', options=('Area', 'concentration_myo', 'DV_asymmetry', 'Ventral_fraction', 'off…"
      ]
     },
     "metadata": {},
     "output_type": "display_data"
    }
   ],
   "source": [
    "row.w # choose which quantity to display"
   ]
  },
  {
   "cell_type": "code",
   "execution_count": null,
   "metadata": {},
   "outputs": [],
   "source": [
    "for i,j in zip(AcrossRows,Colors):\n",
    "    tc.Fill_Error(i,row.w.value,j)\n",
    "plt.xlabel('Time(sec)', fontsize=20)\n",
    "plt.ylabel(row.w.value, fontsize=12)\n",
    "plt.legend(label_rows, loc='upper left', fontsize=11)\n",
    "plt.show()"
   ]
  },
  {
   "cell_type": "code",
   "execution_count": null,
   "metadata": {},
   "outputs": [],
   "source": []
  }
 ],
 "metadata": {
  "kernelspec": {
   "display_name": "Python 3",
   "language": "python",
   "name": "python3"
  },
  "language_info": {
   "codemirror_mode": {
    "name": "ipython",
    "version": 3
   },
   "file_extension": ".py",
   "mimetype": "text/x-python",
   "name": "python",
   "nbconvert_exporter": "python",
   "pygments_lexer": "ipython3",
   "version": "3.7.4"
  }
 },
 "nbformat": 4,
 "nbformat_minor": 2
}
