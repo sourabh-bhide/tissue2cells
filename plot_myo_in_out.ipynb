{
 "cells": [
  {
   "cell_type": "code",
   "execution_count": null,
   "metadata": {},
   "outputs": [],
   "source": [
    "%matplotlib inline\n",
    "import h5py\n",
    "import numpy as np\n",
    "import pandas as pd\n",
    "import matplotlib.pyplot as plt\n",
    "from scipy.ndimage import gaussian_filter1d\n",
    "from scipy.ndimage.morphology import distance_transform_edt\n",
    "from scipy.stats import linregress"
   ]
  },
  {
   "cell_type": "code",
   "execution_count": null,
   "metadata": {},
   "outputs": [],
   "source": [
    "PIX_AREA = 0.0148 # pixel area in microns"
   ]
  },
  {
   "cell_type": "markdown",
   "metadata": {},
   "source": [
    "The h5 file is the result of the `convert_tiffs.py` script, that remaps cell ids so that they are sequential and consistent across the timeframes. \n",
    "The csv file is a tracking dataframe, modified by the `convert_tiffs.py` script to contain the new remapped cell ids"
   ]
  },
  {
   "cell_type": "code",
   "execution_count": null,
   "metadata": {},
   "outputs": [],
   "source": [
    "data_h5 = 'img5.h5'\n",
    "tracking_csv = 'img5.csv'"
   ]
  },
  {
   "cell_type": "markdown",
   "metadata": {},
   "source": [
    "These are all the functions we need for plotting:"
   ]
  },
  {
   "cell_type": "code",
   "execution_count": null,
   "metadata": {},
   "outputs": [],
   "source": [
    "def get_myo_around(idx, tf, n=70):\n",
    "    # get myosin concentration around a cell\n",
    "    no_cell_mask = segmentation[tf] != idx\n",
    "    dist_tr = distance_transform_edt(no_cell_mask)\n",
    "    mask_around = (dist_tr <= n) * no_cell_mask\n",
    "    myo_around = myosin[tf] * mask_around\n",
    "    return np.sum(myo_around) / np.sum(mask_around) * PIX_AREA\n",
    "\n",
    "\n",
    "def get_myo_in(idx, tf):\n",
    "    # get myosin concentration inside a cell\n",
    "    cell_mask = segmentation[tf] == idx\n",
    "    myo_in = myosin[tf] * cell_mask\n",
    "    return np.sum(myo_in) / np.sum(cell_mask) * PIX_AREA\n",
    "\n",
    "\n",
    "def get_cell_size(idx, tf):\n",
    "    # get cell size in pixels\n",
    "    cell_mask = segmentation[tf] == idx\n",
    "    return np.sum(cell_mask)\n",
    "\n",
    "\n",
    "def smooth(values, sigma=3, tolerance=0.1):\n",
    "    # smooth noisy data\n",
    "    values = np.array(values)\n",
    "    # check if any value is suspicious (differs from its neighbors too much)\n",
    "    # it is most likely a merge\n",
    "    for i in range(1, len(values) - 1):\n",
    "        avg_neigh = (values[i - 1] + values[i + 1]) / 2\n",
    "        if not (1 + tolerance) > (values[i] / avg_neigh) > (1 - tolerance):\n",
    "            # replace this value with neighbors' average\n",
    "            values[i] = avg_neigh\n",
    "    # smooth with gaussian filter\n",
    "    values = gaussian_filter1d(values, sigma=sigma)\n",
    "    # crop the first and the last value\n",
    "    # due to possible smoothing border artifacts\n",
    "    return values[1:-1]\n",
    "\n",
    "\n",
    "def remove_border_cells(segm, data_frame):\n",
    "    # the area of cells on the border is unreliable\n",
    "    # so we remove them\n",
    "    segm_borders = segm.copy()\n",
    "    segm_borders[:, 2:-2, 2:-2] = 0\n",
    "    for tf in range(len(segm)):\n",
    "        border_cells = np.unique(segm_borders[tf])\n",
    "        border_cells = border_cells[border_cells != 0]\n",
    "        for cell in border_cells:\n",
    "            data_frame = data_frame[~((data_frame['frame_nb'] == tf) & (data_frame['new_id'] == cell))]\n",
    "    return data_frame\n",
    "\n",
    "\n",
    "def get_size_and_myo(table, myo_s=3, area_s=3):\n",
    "    # for every cell in every time point get myo conc and size\n",
    "    all_in_myo, all_out_myo, all_sizes = {}, {}, {}\n",
    "    for idx in table['new_id'].unique():\n",
    "        idx_data = table[table['new_id'] == idx]\n",
    "        # don't take the first two frames, there are segmentation errors\n",
    "        idx_data = idx_data[idx_data['frame_nb'] >= 2]\n",
    "        tps = np.array(idx_data['frame_nb'])\n",
    "        # if the cell is not present in enough frames, drop it\n",
    "        # otherwise it's mostly smoothing artifacts\n",
    "        if len(tps) < 5: continue\n",
    "        # get cell myo, outside myo and area for every cell in every time frame\n",
    "        myo = [get_myo_in(idx, tp) for tp in tps]\n",
    "        o_myo = [get_myo_around(idx, tp) for tp in tps]\n",
    "        area = [get_cell_size(idx, tp) for tp in tps]\n",
    "        # smooth the values calculated per cell\n",
    "        # the ones around are less noisy\n",
    "        myo = smooth(myo, sigma=myo_s, tolerance=1)\n",
    "        area = smooth(area, sigma=area_s, tolerance=0.1)\n",
    "        # create dicts for every feature\n",
    "        all_in_myo[idx] = {t: m for t, m in zip(tps[1:-1], myo)}\n",
    "        all_out_myo[idx] = {t: o for t, o in zip(tps, o_myo)}\n",
    "        all_sizes[idx] = {t: s for t, s in zip(tps[1:-1], area)}\n",
    "    return all_in_myo, all_out_myo, all_sizes\n",
    "\n",
    "\n",
    "def get_data_to_plot(myo_in_conc, myo_out_conc, sizes):\n",
    "    data_points = []\n",
    "    for idx in myo_in_conc.keys():\n",
    "        tps = myo_in_conc[idx].keys()\n",
    "        for tp in range(min(tps), max(tps) - 1):\n",
    "            if tp not in tps or tp+1 not in tps: continue\n",
    "            # calculate size change as next frame size divided by current ones'\n",
    "            size_change = sizes[idx][tp + 1] / sizes[idx][tp]\n",
    "            cell_myo = myo_in_conc[idx][tp]\n",
    "            nbr_myo = myo_out_conc[idx][tp]\n",
    "            data_points.append([size_change, cell_myo, nbr_myo])\n",
    "    return np.array(data_points)\n",
    "\n",
    "\n",
    "def show_myo_around_in(idx, tf, n=70):\n",
    "    no_cell_mask = segmentation[tf] != idx\n",
    "    dist_tr = distance_transform_edt(no_cell_mask)\n",
    "    cell_countour = (dist_tr <= 2) * no_cell_mask\n",
    "    myo_countour = (dist_tr < n+1) * (dist_tr > n-1)\n",
    "    mask_in_around = (dist_tr <= n)\n",
    "    myo_in_around = myosin[tf] * mask_in_around\n",
    "    myo_in_around = myo_in_around / np.max(myo_in_around)\n",
    "    plt.imshow(cell_countour + myo_countour + myo_in_around)\n",
    "    plt.show()"
   ]
  },
  {
   "cell_type": "markdown",
   "metadata": {},
   "source": [
    "Let's load the data"
   ]
  },
  {
   "cell_type": "code",
   "execution_count": null,
   "metadata": {},
   "outputs": [],
   "source": [
    "with h5py.File(data_h5, 'r') as f:\n",
    "    membranes = f['membranes'][:]\n",
    "    myosin = f['myosin'][:]\n",
    "    segmentation = f['segmentation'][:]\n",
    "\n",
    "data_table = pd.read_csv(tracking_csv)"
   ]
  },
  {
   "cell_type": "markdown",
   "metadata": {},
   "source": [
    "And generate all the data we need for plotting"
   ]
  },
  {
   "cell_type": "code",
   "execution_count": null,
   "metadata": {},
   "outputs": [],
   "source": [
    "data_table = remove_border_cells(segmentation, data_table)\n",
    "myo_i, myo_o, c_area = get_size_and_myo(data_table, myo_s=3, area_s=3)\n",
    "to_plot = get_data_to_plot(myo_i, myo_o, c_area)"
   ]
  },
  {
   "cell_type": "markdown",
   "metadata": {},
   "source": [
    "# Figure 2K (main)\n",
    "Myosin concentration within a cell plotted versus surrounding myosin concentration in a ring"
   ]
  },
  {
   "cell_type": "code",
   "execution_count": null,
   "metadata": {},
   "outputs": [],
   "source": [
    "plt.rcParams['figure.figsize'] = [15, 10]\n",
    "plt.scatter(to_plot[:, 1], to_plot[:, 2], c=to_plot[:, 0], cmap='RdYlBu', vmin=0.9, vmax=1.1, s=20)\n",
    "plt.vlines([18, 22], 5, 48, linestyles='dotted')\n",
    "plt.hlines([5, 48], 18, 22, linestyles='dotted')\n",
    "plt.xlabel(\"Cell's myosin concentration (log)\", size=20)\n",
    "plt.ylabel(\"Myosin concentration in the neighborhood (log)\", size=20)\n",
    "plt.loglog()\n",
    "plt.colorbar()\n",
    "plt.show()"
   ]
  },
  {
   "cell_type": "markdown",
   "metadata": {},
   "source": [
    "# Figure 2K (bottom right inset)\n",
    "Cells with inside concentration of 18-22, myo around against time change"
   ]
  },
  {
   "cell_type": "code",
   "execution_count": null,
   "metadata": {},
   "outputs": [],
   "source": [
    "plot_cutout = to_plot[(18 < to_plot[:, 1]) & (to_plot[:, 1] < 22)]\n",
    "slope, intercept, rvalue, _, _ = linregress(plot_cutout[:, 0], np.log(plot_cutout[:, 2]))\n",
    "y = intercept + slope * plot_cutout[:, 0]\n",
    "fig, ax = plt.subplots()\n",
    "ax.plot(plot_cutout[:, 0], y, 'red', label='linear fit')\n",
    "ax.scatter(plot_cutout[:, 0], np.log(plot_cutout[:, 2]), s=100, c='tab:grey')\n",
    "plt.xlabel(\"Relative size change\", size=25)\n",
    "plt.ylabel(\"Myosin concentration in the neighborhood (log)\", size=25)\n",
    "plt.text(1.035, 2.05, \"Correlation={:.4f}\".format(rvalue), size=20)\n",
    "plt.legend(loc='upper left', fontsize=20)\n",
    "plt.show()"
   ]
  },
  {
   "cell_type": "markdown",
   "metadata": {},
   "source": [
    "# Figure 2K (upper left inset)\n",
    "Visualizing ring around the cell used to calculate outside myo concentration"
   ]
  },
  {
   "cell_type": "code",
   "execution_count": null,
   "metadata": {},
   "outputs": [],
   "source": [
    "show_myo_around_in(18, 11)"
   ]
  },
  {
   "cell_type": "markdown",
   "metadata": {},
   "source": [
    "# Figure 2L (inset)\n",
    "Change in cell size compared to the ratio of cell-intrinsic over surrounding myosin concentration"
   ]
  },
  {
   "cell_type": "code",
   "execution_count": null,
   "metadata": {},
   "outputs": [],
   "source": [
    "exp = to_plot[np.where(to_plot[:, 0] > 1.01)]\n",
    "constr = to_plot[np.where(to_plot[:, 0] < 0.99)]\n",
    "middle = to_plot[np.where((to_plot[:, 0] >= 0.99) & (to_plot[:, 0] <= 1.01))]\n",
    "fig, ax = plt.subplots()\n",
    "ax.scatter(exp[:, 1] / exp[:, 2], exp[:, 0], c='tab:blue')\n",
    "ax.scatter(constr[:, 1] / constr[:, 2], constr[:, 0], c='tab:red')\n",
    "ax.scatter(middle[:, 1] / middle[:, 2], middle[:, 0], c='y')\n",
    "ax.hlines(1, 0.4, 4.9)\n",
    "ax.vlines(1, 0.83, 1.10)\n",
    "plt.xlabel(\"Myosin concentration inside / outside\", size=25)\n",
    "plt.ylabel(\"Relative size change\", size=25)\n",
    "plt.show()"
   ]
  },
  {
   "cell_type": "markdown",
   "metadata": {},
   "source": [
    "# Figure 2L (main)\n",
    "Density histogram of constricting and expanding cells binned by  the ratio of cell-intrinsic over surrounding myosin concentration"
   ]
  },
  {
   "cell_type": "code",
   "execution_count": null,
   "metadata": {},
   "outputs": [],
   "source": [
    "sm_range = np.arange(0.25, 5.25, 0.125)\n",
    "plt.hist(exp[:, 1] / exp[:, 2], bins=sm_range, density=True, histtype='bar',\n",
    "         label='Expanding', color='tab:blue', alpha=0.6)\n",
    "plt.hist(constr[:, 1] / constr[:, 2], bins=sm_range, density=True, histtype='bar',\n",
    "         label='Constricting', color='tab:red', alpha=0.6)\n",
    "plt.ylabel('Cells density', size=25)\n",
    "plt.xlabel('Ratio in/out myosin', size=25)\n",
    "plt.legend(loc='upper right', fontsize=15)\n",
    "plt.show()"
   ]
  }
 ],
 "metadata": {
  "kernelspec": {
   "display_name": "Python 3",
   "language": "python",
   "name": "python3"
  },
  "language_info": {
   "codemirror_mode": {
    "name": "ipython",
    "version": 3
   },
   "file_extension": ".py",
   "mimetype": "text/x-python",
   "name": "python",
   "nbconvert_exporter": "python",
   "pygments_lexer": "ipython3",
   "version": "3.7.3"
  }
 },
 "nbformat": 4,
 "nbformat_minor": 2
}
